{
 "cells": [
  {
   "cell_type": "markdown",
   "metadata": {},
   "source": [
    "# TP1\n",
    "## Question 2: ZLW"
   ]
  },
  {
   "cell_type": "code",
   "execution_count": 2,
   "metadata": {},
   "outputs": [],
   "source": [
    "import numpy as np"
   ]
  },
  {
   "cell_type": "markdown",
   "metadata": {},
   "source": [
    "### File loading and dictionary initialization"
   ]
  },
  {
   "cell_type": "code",
   "execution_count": 3,
   "metadata": {},
   "outputs": [],
   "source": [
    "FILES = [f\"texte_{i}.txt\" for i in range(1,6)]\n",
    "PATH = \"../data/textes/\"\n",
    "\n",
    "def load_file(index: int) -> str:\n",
    "\tif index < 0 or index >= len(FILES):\n",
    "\t\traise ValueError(\"Index out of range\")\n",
    "\twith open(PATH+FILES[index],\"r\") as f:\n",
    "\t\tmsg = f.read()\n",
    "\treturn msg\n",
    "\n",
    "def init_dict(msg: str) -> dict[str, str]:\n",
    "\tdict_symb = {}\n",
    "\tn_symb = 0\n",
    "\tfor i in range(len(msg)):\n",
    "\t\tif msg[i] not in dict_symb:\n",
    "\t\t\tdict_symb[msg[i]] = f\"{n_symb:b}\"\n",
    "\t\t\tn_symb +=1\n",
    "\treturn dict_symb"
   ]
  },
  {
   "cell_type": "markdown",
   "metadata": {},
   "source": [
    "### Utils"
   ]
  },
  {
   "cell_type": "code",
   "execution_count": 4,
   "metadata": {},
   "outputs": [],
   "source": [
    "def dict_update_size(dict_symb: dict[str, str]):\n",
    "\tn_symb = len(dict_symb)\n",
    "\tfor k, v in dict_symb.items():\n",
    "\t\tdict_symb[k] = v.zfill(int(np.ceil(np.log2(n_symb))))\n",
    "\n",
    "log_size = lambda x: np.ceil(np.log2(x))\n"
   ]
  },
  {
   "cell_type": "markdown",
   "metadata": {},
   "source": [
    "### Compression algorithm"
   ]
  },
  {
   "cell_type": "code",
   "execution_count": 5,
   "metadata": {},
   "outputs": [],
   "source": [
    "def compress(msg: str, dict_symb: dict[str, str]) -> (list[str], int):\n",
    "\ti, length = 0, 0\n",
    "\tn_symb = len(dict_symb)\n",
    "\tcoded_msg = []\n",
    "\twhile i < len(msg):\n",
    "\t\t# Next coded string\n",
    "\t\tnext_str = msg[i]\n",
    "\t\t# Same, but with extra character (for the dictionary)\n",
    "\t\tnext_str_extra = msg[i]\n",
    "\n",
    "\t\t# Tries to fit the largest string possible in the dictionary\n",
    "\t\twhile next_str_extra in dict_symb and i < len(msg):\n",
    "\t\t\ti += 1\n",
    "\t\t\tnext_str = next_str_extra\n",
    "\t\t\tif i < len(msg): # If there is still characters to read\n",
    "\t\t\t\tnext_str_extra += msg[i]\n",
    "\n",
    "\t\t# Coding of the string\n",
    "\t\tbin_code = dict_symb[next_str]\n",
    "\t\tcoded_msg.append(bin_code)\n",
    "\t\tlength += len(bin_code)\n",
    "\t\t# Adding the new string to the dictionary\n",
    "\t\tif i < len(msg):\n",
    "\t\t\tdict_symb[next_str_extra] = f\"{n_symb:b}\"\n",
    "\t\t\tn_symb += 1\n",
    "\n",
    "\t\t# Updating symbols size if necessary\n",
    "\t\tif log_size(n_symb) > len(coded_msg[-1]):\n",
    "\t\t\tdict_update_size(dict_symb)\n",
    "\treturn coded_msg, length"
   ]
  },
  {
   "cell_type": "code",
   "execution_count": 8,
   "metadata": {},
   "outputs": [
    {
     "name": "stdout",
     "output_type": "stream",
     "text": [
      "Message: AAAAAAAAAAAAAAAAABBABAAAAAAAAAAAABAAAAAAAAAAAAAABBAAAAAAAABAAAAAAAAAAAAAAAAAAAAAAAAA\n",
      "Binary symbols: {'A': '0', 'B': '1'}\n",
      "Initial length: 84\n",
      "Coded message: ['0', '10', '11', '100', '101', '010', '001', '0001', '0000', '1001', '0110', '0101', '1011', '1100', '1101', '01110', '01101', '01111', '10011', '01111']\n",
      "Or : 01011100101010001000100001001011001011011110011010111001101011111001101111\n",
      "Final dictionary: {'A': '00000', 'B': '00001', 'AA': '00010', 'AAA': '00011', 'AAAA': '00100', 'AAAAA': '00101', 'AAAAAA': '00110', 'AAB': '00111', 'BB': '01000', 'BA': '01001', 'AB': '01010', 'BAA': '01011', 'AAAAAAA': '01100', 'AAAAAB': '01101', 'BAAA': '01110', 'AAAAAAAA': '01111', 'AAAAABB': '10000', 'BAAAA': '10001', 'AAAAABA': '10010', 'AAAAAAAAA': '10011', 'AAAAAAAAAA': '10100'}\n",
      "\n",
      "Length = 74\n",
      "Original length = 84\n",
      "Compression rate = 11.90%\n",
      "Compression factor = 1.14\n",
      "\n",
      "Loading time: 0.85ms\n",
      "Dictionary loading time: 0.11ms\n",
      "Compression time: 0.32ms\n",
      "Total time: 1.28ms\n"
     ]
    }
   ],
   "source": [
    "import time\n",
    "def run(index: int, verbose: bool = True) -> dict[str, str]:\n",
    "\tstart = time.time()\n",
    "\tmsg = load_file(index)\n",
    "\tloaded = time.time()\n",
    "\tif verbose:\n",
    "\t\tprint(f\"Message: {msg}\")\n",
    "\tdict_symb = init_dict(msg)\n",
    "\tinitial_length = int(log_size(len(dict_symb))*len(msg))\n",
    "\tdict_update_size(dict_symb)\n",
    "\tdict_loaded = time.time()\n",
    "\tif verbose:\n",
    "\t\tprint(f\"Binary symbols: {dict_symb}\")\n",
    "\t\tprint(f\"Initial length: {initial_length}\")\n",
    "\tcoded_msg, length = compress(msg, dict_symb)\n",
    "\tcompressed = time.time()\n",
    "\tprint(f\"Coded message: {coded_msg}\")\n",
    "\tprint(f\"Or : {''.join(coded_msg)}\")\n",
    "\n",
    "\tif verbose:\n",
    "\t\tprint(f\"Final dictionary: {dict_symb}\")\n",
    "\t\tprint(\"\")\n",
    "\t\tprint(f\"Length = {length}\")\n",
    "\t\tprint(f\"Original length = {initial_length}\")\n",
    "\t\tprint(f\"Compression rate = {100 - length/initial_length*100:.2f}%\")\n",
    "\t\tprint(f\"Compression factor = {initial_length/length:.2f}\")\n",
    "\n",
    "\tif verbose:\n",
    "\t\tprint(\"\")\n",
    "\t\tprint(f\"Loading time: {(loaded-start)*10**3:.2f}ms\")\n",
    "\t\tprint(f\"Dictionary loading time: {(dict_loaded-loaded)*10**3:.2f}ms\")\n",
    "\t\tprint(f\"Compression time: {(compressed-dict_loaded)*10**3:.2f}ms\")\n",
    "\t\tprint(f\"Total time: {(compressed-start)*10**3:.2f}ms\")\n",
    "\treturn dict_symb\n",
    "dict_symb = run(0)\n"
   ]
  },
  {
   "cell_type": "code",
   "execution_count": 9,
   "metadata": {},
   "outputs": [
    {
     "name": "stdout",
     "output_type": "stream",
     "text": [
      "A : 00000\n",
      "B : 00001\n",
      "AA : 00010\n",
      "AAA : 00011\n",
      "AAAA : 00100\n",
      "AAAAA : 00101\n",
      "AAAAAA : 00110\n",
      "AAB : 00111\n",
      "BB : 01000\n",
      "BA : 01001\n",
      "AB : 01010\n",
      "BAA : 01011\n",
      "AAAAAAA : 01100\n",
      "AAAAAB : 01101\n",
      "BAAA : 01110\n",
      "AAAAAAAA : 01111\n",
      "AAAAABB : 10000\n",
      "BAAAA : 10001\n",
      "AAAAABA : 10010\n",
      "AAAAAAAAA : 10011\n",
      "AAAAAAAAAA : 10100\n"
     ]
    }
   ],
   "source": [
    "for k, v in dict_symb.items():\n",
    "    print(f\"{k} : {v}\")"
   ]
  }
 ],
 "metadata": {
  "kernelspec": {
   "display_name": "Python 3",
   "language": "python",
   "name": "python3"
  },
  "language_info": {
   "codemirror_mode": {
    "name": "ipython",
    "version": 3
   },
   "file_extension": ".py",
   "mimetype": "text/x-python",
   "name": "python",
   "nbconvert_exporter": "python",
   "pygments_lexer": "ipython3",
   "version": "3.11.6"
  }
 },
 "nbformat": 4,
 "nbformat_minor": 2
}
