{
 "cells": [
  {
   "cell_type": "markdown",
   "metadata": {},
   "source": [
    "# TP1\n",
    "## Question 2: ZLW"
   ]
  },
  {
   "cell_type": "code",
   "execution_count": 2,
   "metadata": {},
   "outputs": [],
   "source": [
    "import numpy as np"
   ]
  },
  {
   "cell_type": "markdown",
   "metadata": {},
   "source": [
    "### File loading and dictionary initialization"
   ]
  },
  {
   "cell_type": "code",
   "execution_count": 3,
   "metadata": {},
   "outputs": [],
   "source": [
    "FILES = [f\"texte_{i}.txt\" for i in range(1,6)]\n",
    "PATH = \"../data/textes/\"\n",
    "\n",
    "def load_file(index: int) -> str:\n",
    "\tif index < 0 or index >= len(FILES):\n",
    "\t\traise ValueError(\"Index out of range\")\n",
    "\twith open(PATH+FILES[index],\"r\") as f:\n",
    "\t\tmsg = f.read()\n",
    "\treturn msg\n",
    "\n",
    "def init_dict(msg: str) -> dict[str, str]:\n",
    "\tdict_symb = {}\n",
    "\tn_symb = 0\n",
    "\tfor i in range(len(msg)):\n",
    "\t\tif msg[i] not in dict_symb:\n",
    "\t\t\tdict_symb[msg[i]] = f\"{n_symb:b}\"\n",
    "\t\t\tn_symb +=1\n",
    "\treturn dict_symb"
   ]
  },
  {
   "cell_type": "markdown",
   "metadata": {},
   "source": [
    "### Utils"
   ]
  },
  {
   "cell_type": "code",
   "execution_count": 4,
   "metadata": {},
   "outputs": [],
   "source": [
    "def dict_update_size(dict_symb: dict[str, str]):\n",
    "\tn_symb = len(dict_symb)\n",
    "\tfor k, v in dict_symb.items():\n",
    "\t\tdict_symb[k] = v.zfill(int(np.ceil(np.log2(n_symb))))\n",
    "\n",
    "log_size = lambda x: np.ceil(np.log2(x))\n"
   ]
  },
  {
   "cell_type": "markdown",
   "metadata": {},
   "source": [
    "### Compression algorithm"
   ]
  },
  {
   "cell_type": "code",
   "execution_count": 5,
   "metadata": {},
   "outputs": [],
   "source": [
    "def compress(msg: str, dict_symb: dict[str, str]) -> (list[str], int):\n",
    "\ti, length = 0, 0\n",
    "\tn_symb = len(dict_symb)\n",
    "\tcoded_msg = []\n",
    "\twhile i < len(msg):\n",
    "\t\t# Next coded string\n",
    "\t\tnext_str = msg[i]\n",
    "\t\t# Same, but with extra character (for the dictionary)\n",
    "\t\tnext_str_extra = msg[i]\n",
    "\n",
    "\t\t# Tries to fit the largest string possible in the dictionary\n",
    "\t\twhile next_str_extra in dict_symb and i < len(msg):\n",
    "\t\t\ti += 1\n",
    "\t\t\tnext_str = next_str_extra\n",
    "\t\t\tif i < len(msg): # If there is still characters to read\n",
    "\t\t\t\tnext_str_extra += msg[i]\n",
    "\n",
    "\t\t# Coding of the string\n",
    "\t\tbin_code = dict_symb[next_str]\n",
    "\t\tcoded_msg.append(bin_code)\n",
    "\t\tlength += len(bin_code)\n",
    "\t\t# Adding the new string to the dictionary\n",
    "\t\tif i < len(msg):\n",
    "\t\t\tdict_symb[next_str_extra] = f\"{n_symb:b}\"\n",
    "\t\t\tn_symb += 1\n",
    "\n",
    "\t\t# Updating symbols size if necessary\n",
    "\t\tif log_size(n_symb) > len(coded_msg[-1]):\n",
    "\t\t\tdict_update_size(dict_symb)\n",
    "\treturn coded_msg, length"
   ]
  },
  {
   "cell_type": "code",
   "execution_count": 7,
   "metadata": {},
   "outputs": [
    {
     "name": "stdout",
     "output_type": "stream",
     "text": [
      "Message: FOFOFOEOKOWKOOWONOOOOOOWOENFOEOOOJSODNOJFSOJKOOOOBV\n",
      "Binary symbols: {'F': '0000', 'O': '0001', 'E': '0010', 'K': '0011', 'W': '0100', 'N': '0101', 'J': '0110', 'S': '0111', 'D': '1000', 'B': '1001', 'V': '1010'}\n",
      "Initial length: 204\n",
      "Coded message: ['0000', '0001', '1011', '1011', '0010', '0001', '00011', '00001', '00100', '10001', '10010', '00001', '00101', '00001', '11000', '11001', '00100', '00001', '00010', '00101', '01110', '11001', '000110', '000111', '000001', '001000', '010111', '000110', '000000', '100010', '000110', '010100', '011000', '001001', '001010']\n",
      "Or : 00000001101110110010000100011000010010010001100100000100101000011100011001001000000100010001010111011001000110000111000001001000010111000110000000100010000110010100011000001001001010\n",
      "\n",
      "Length = 182\n",
      "Original length = 204\n",
      "Compression rate = 10.78%\n",
      "Compression factor = 1.12\n",
      "\n",
      "Loading time: 1.60ms\n",
      "Dictionary loading time: 0.69ms\n",
      "Compression time: 0.65ms\n",
      "Total time: 2.94ms\n"
     ]
    }
   ],
   "source": [
    "import time\n",
    "def run(index: int, verbose: bool = True):\n",
    "\tstart = time.time()\n",
    "\tmsg = load_file(index)\n",
    "\tloaded = time.time()\n",
    "\tif verbose:\n",
    "\t\tprint(f\"Message: {msg}\")\n",
    "\tdict_symb = init_dict(msg)\n",
    "\tinitial_length = int(log_size(len(dict_symb))*len(msg))\n",
    "\tdict_update_size(dict_symb)\n",
    "\tdict_loaded = time.time()\n",
    "\tif verbose:\n",
    "\t\tprint(f\"Binary symbols: {dict_symb}\")\n",
    "\t\tprint(f\"Initial length: {initial_length}\")\n",
    "\tcoded_msg, length = compress(msg, dict_symb)\n",
    "\tcompressed = time.time()\n",
    "\tprint(f\"Coded message: {coded_msg}\")\n",
    "\tprint(f\"Or : {''.join(coded_msg)}\")\n",
    "\n",
    "\tif verbose:\n",
    "\t\tprint(\"\")\n",
    "\t\tprint(f\"Length = {length}\")\n",
    "\t\tprint(f\"Original length = {initial_length}\")\n",
    "\t\tprint(f\"Compression rate = {100 - length/initial_length*100:.2f}%\")\n",
    "\t\tprint(f\"Compression factor = {initial_length/length:.2f}\")\n",
    "\n",
    "\tif verbose:\n",
    "\t\tprint(\"\")\n",
    "\t\tprint(f\"Loading time: {(loaded-start)*10**3:.2f}ms\")\n",
    "\t\tprint(f\"Dictionary loading time: {(dict_loaded-loaded)*10**3:.2f}ms\")\n",
    "\t\tprint(f\"Compression time: {(compressed-dict_loaded)*10**3:.2f}ms\")\n",
    "\t\tprint(f\"Total time: {(compressed-start)*10**3:.2f}ms\")\n",
    "run(2)\n"
   ]
  }
 ],
 "metadata": {
  "kernelspec": {
   "display_name": "Python 3",
   "language": "python",
   "name": "python3"
  },
  "language_info": {
   "codemirror_mode": {
    "name": "ipython",
    "version": 3
   },
   "file_extension": ".py",
   "mimetype": "text/x-python",
   "name": "python",
   "nbconvert_exporter": "python",
   "pygments_lexer": "ipython3",
   "version": "3.11.6"
  }
 },
 "nbformat": 4,
 "nbformat_minor": 2
}
