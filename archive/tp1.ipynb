{
 "cells": [
  {
   "cell_type": "markdown",
   "metadata": {},
   "source": [
    "# TP1\n",
    "## Question 2: ZLW"
   ]
  },
  {
   "cell_type": "code",
   "execution_count": 11,
   "metadata": {},
   "outputs": [],
   "source": [
    "import numpy as np"
   ]
  },
  {
   "cell_type": "markdown",
   "metadata": {},
   "source": [
    "### File loading and dictionary initialization"
   ]
  },
  {
   "cell_type": "code",
   "execution_count": 12,
   "metadata": {},
   "outputs": [],
   "source": [
    "FILES = [f\"texte_{i}.txt\" for i in range(1,7)]\n",
    "PATH = \"../data/textes/\"\n",
    "\n",
    "def load_file(index: int) -> str:\n",
    "\tif index < 0 or index >= len(FILES):\n",
    "\t\traise ValueError(\"Index out of range\")\n",
    "\twith open(PATH+FILES[index],\"r\") as f:\n",
    "\t\tmsg = f.read()\n",
    "\treturn msg\n",
    "\n",
    "def init_dict(msg: str) -> dict[str, str]:\n",
    "\tdict_symb = {}\n",
    "\tn_symb = 0\n",
    "\tfor i in range(len(msg)):\n",
    "\t\tif msg[i] not in dict_symb:\n",
    "\t\t\tdict_symb[msg[i]] = f\"{n_symb:b}\"\n",
    "\t\t\tn_symb +=1\n",
    "\treturn dict_symb"
   ]
  },
  {
   "cell_type": "markdown",
   "metadata": {},
   "source": [
    "### Utils"
   ]
  },
  {
   "cell_type": "code",
   "execution_count": 13,
   "metadata": {},
   "outputs": [],
   "source": [
    "def dict_update_size(dict_symb: dict[str, str]):\n",
    "\tn_symb = len(dict_symb)\n",
    "\tfor k, v in dict_symb.items():\n",
    "\t\tdict_symb[k] = v.zfill(int(np.ceil(np.log2(n_symb))))\n",
    "\n",
    "log_size = lambda x: np.ceil(np.log2(x))\n"
   ]
  },
  {
   "cell_type": "markdown",
   "metadata": {},
   "source": [
    "### Compression algorithm"
   ]
  },
  {
   "cell_type": "code",
   "execution_count": 14,
   "metadata": {},
   "outputs": [],
   "source": [
    "def compress(msg: str, dict_symb: dict[str, str]) -> (list[str], int):\n",
    "\ti, length = 0, 0\n",
    "\tn_symb = len(dict_symb)\n",
    "\tcoded_msg = []\n",
    "\twhile i < len(msg):\n",
    "\t\t# Next coded string\n",
    "\t\tnext_str = msg[i]\n",
    "\t\t# Same, but with extra character (for the dictionary)\n",
    "\t\tnext_str_extra = msg[i]\n",
    "\n",
    "\t\t# Tries to fit the largest string possible in the dictionary\n",
    "\t\twhile next_str_extra in dict_symb and i < len(msg):\n",
    "\t\t\ti += 1\n",
    "\t\t\tnext_str = next_str_extra\n",
    "\t\t\tif i < len(msg): # If there is still characters to read\n",
    "\t\t\t\tnext_str_extra += msg[i]\n",
    "\n",
    "\t\t# Coding of the string\n",
    "\t\tbin_code = dict_symb[next_str]\n",
    "\t\tcoded_msg.append(bin_code)\n",
    "\t\tlength += len(bin_code)\n",
    "\t\t# Adding the new string to the dictionary\n",
    "\t\tif i < len(msg):\n",
    "\t\t\tdict_symb[next_str_extra] = f\"{n_symb:b}\"\n",
    "\t\t\tn_symb += 1\n",
    "\n",
    "\t\t# Updating symbols size if necessary\n",
    "\t\tif log_size(n_symb) > len(coded_msg[-1]):\n",
    "\t\t\tdict_update_size(dict_symb)\n",
    "\treturn coded_msg, length"
   ]
  },
  {
   "cell_type": "code",
   "execution_count": 16,
   "metadata": {},
   "outputs": [
    {
     "name": "stdout",
     "output_type": "stream",
     "text": [
      "Length = 38118\n",
      "Original length = 66924\n",
      "Compression rate = 43.04%\n",
      "Compression factor = 1.76\n",
      "\n",
      "Loading time: 0.83ms\n",
      "Dictionary loading time: 2.10ms\n",
      "Compression time: 46.71ms\n",
      "Total time: 49.64ms\n"
     ]
    }
   ],
   "source": [
    "import time\n",
    "def run(index: int, verbose: int = 1) -> dict[str, str]:\n",
    "\tstart = time.time()\n",
    "\tmsg = load_file(index)\n",
    "\tloaded = time.time()\n",
    "\tif verbose > 1:\n",
    "\t\tprint(f\"Message: {msg}\")\n",
    "\tdict_symb = init_dict(msg)\n",
    "\tinitial_length = int(log_size(len(dict_symb))*len(msg))\n",
    "\tdict_update_size(dict_symb)\n",
    "\tdict_loaded = time.time()\n",
    "\tif verbose > 1:\n",
    "\t\tprint(f\"Binary symbols: {dict_symb}\")\n",
    "\t\tprint(f\"Initial length: {initial_length}\")\n",
    "\tcoded_msg, length = compress(msg, dict_symb)\n",
    "\tcompressed = time.time()\n",
    "\tif verbose > 2:\n",
    "\t\tprint(f\"Coded message: {coded_msg}\")\n",
    "\tif verbose > 1:\n",
    "\t\tprint(f\"Or : {''.join(coded_msg)}\")\n",
    "\n",
    "\tif verbose > 2:\n",
    "\t\tprint(f\"Final dictionary: {dict_symb}\")\n",
    "\t\tprint(\"\")\n",
    "\tif verbose > 0:\n",
    "\t\tprint(f\"Length = {length}\")\n",
    "\t\tprint(f\"Original length = {initial_length}\")\n",
    "\t\tprint(f\"Compression rate = {100 - length/initial_length*100:.2f}%\")\n",
    "\t\tprint(f\"Compression factor = {initial_length/length:.2f}\")\n",
    "\n",
    "\tif verbose > 0:\n",
    "\t\tprint(\"\")\n",
    "\t\tprint(f\"Loading time: {(loaded-start)*10**3:.2f}ms\")\n",
    "\t\tprint(f\"Dictionary loading time: {(dict_loaded-loaded)*10**3:.2f}ms\")\n",
    "\t\tprint(f\"Compression time: {(compressed-dict_loaded)*10**3:.2f}ms\")\n",
    "\t\tprint(f\"Total time: {(compressed-start)*10**3:.2f}ms\")\n",
    "\treturn dict_symb\n",
    "dict_symb = run(5, verbose=1)\n"
   ]
  },
  {
   "cell_type": "code",
   "execution_count": 9,
   "metadata": {},
   "outputs": [
    {
     "name": "stdout",
     "output_type": "stream",
     "text": [
      "A : 00000\n",
      "B : 00001\n",
      "AA : 00010\n",
      "AAA : 00011\n",
      "AAAA : 00100\n",
      "AAAAA : 00101\n",
      "AAAAAA : 00110\n",
      "AAB : 00111\n",
      "BB : 01000\n",
      "BA : 01001\n",
      "AB : 01010\n",
      "BAA : 01011\n",
      "AAAAAAA : 01100\n",
      "AAAAAB : 01101\n",
      "BAAA : 01110\n",
      "AAAAAAAA : 01111\n",
      "AAAAABB : 10000\n",
      "BAAAA : 10001\n",
      "AAAAABA : 10010\n",
      "AAAAAAAAA : 10011\n",
      "AAAAAAAAAA : 10100\n"
     ]
    }
   ],
   "source": [
    "for k, v in dict_symb.items():\n",
    "    print(f\"{k} : {v}\")"
   ]
  }
 ],
 "metadata": {
  "kernelspec": {
   "display_name": "Python 3",
   "language": "python",
   "name": "python3"
  },
  "language_info": {
   "codemirror_mode": {
    "name": "ipython",
    "version": 3
   },
   "file_extension": ".py",
   "mimetype": "text/x-python",
   "name": "python",
   "nbconvert_exporter": "python",
   "pygments_lexer": "ipython3",
   "version": "3.11.6"
  }
 },
 "nbformat": 4,
 "nbformat_minor": 2
}
